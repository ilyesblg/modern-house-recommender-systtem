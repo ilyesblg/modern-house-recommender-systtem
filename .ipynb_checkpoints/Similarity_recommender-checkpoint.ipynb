{
 "cells": [
  {
   "cell_type": "code",
   "execution_count": 1,
   "id": "4fdf0742",
   "metadata": {},
   "outputs": [],
   "source": [
    "import pandas as pd\n",
    "from sklearn.preprocessing import StandardScaler ,LabelEncoder\n",
    "from sklearn.cluster import KMeans\n",
    "from sklearn.metrics.pairwise import cosine_similarity"
   ]
  },
  {
   "cell_type": "code",
   "execution_count": 2,
   "id": "f47d7930",
   "metadata": {},
   "outputs": [],
   "source": [
    "df = pd.read_csv('IKEA_SA_Furniture_Web_Scrapings_sss.csv')\n",
    "df = df.dropna()\n",
    "# shuffle the data\n",
    "df = df.sample(frac=1, random_state=42)  # frac=1 means to use all the data, random_state is used for reproducibility\n",
    "\n",
    "# take only 200 rows\n",
    "df = df[:200]"
   ]
  },
  {
   "cell_type": "code",
   "execution_count": 3,
   "id": "ae437fc6",
   "metadata": {},
   "outputs": [
    {
     "data": {
      "text/html": [
       "<div>\n",
       "<style scoped>\n",
       "    .dataframe tbody tr th:only-of-type {\n",
       "        vertical-align: middle;\n",
       "    }\n",
       "\n",
       "    .dataframe tbody tr th {\n",
       "        vertical-align: top;\n",
       "    }\n",
       "\n",
       "    .dataframe thead th {\n",
       "        text-align: right;\n",
       "    }\n",
       "</style>\n",
       "<table border=\"1\" class=\"dataframe\">\n",
       "  <thead>\n",
       "    <tr style=\"text-align: right;\">\n",
       "      <th></th>\n",
       "      <th>item_id</th>\n",
       "      <th>name</th>\n",
       "      <th>category</th>\n",
       "      <th>price</th>\n",
       "      <th>old_price</th>\n",
       "      <th>sellable_online</th>\n",
       "      <th>link</th>\n",
       "      <th>other_colors</th>\n",
       "      <th>short_description</th>\n",
       "      <th>designer</th>\n",
       "      <th>depth</th>\n",
       "      <th>height</th>\n",
       "      <th>width</th>\n",
       "    </tr>\n",
       "  </thead>\n",
       "  <tbody>\n",
       "    <tr>\n",
       "      <th>2106</th>\n",
       "      <td>10386501</td>\n",
       "      <td>SJÄLLAND</td>\n",
       "      <td>Outdoor furniture</td>\n",
       "      <td>260.0</td>\n",
       "      <td>SR 325</td>\n",
       "      <td>True</td>\n",
       "      <td>https://www.ikea.com/sa/en/p/sjaelland-chair-w...</td>\n",
       "      <td>No</td>\n",
       "      <td>Chair with armrests, outdoor</td>\n",
       "      <td>David Wahl</td>\n",
       "      <td>60.0</td>\n",
       "      <td>86.0</td>\n",
       "      <td>60.0</td>\n",
       "    </tr>\n",
       "    <tr>\n",
       "      <th>265</th>\n",
       "      <td>80275887</td>\n",
       "      <td>KALLAX</td>\n",
       "      <td>Bookcases &amp; shelving units</td>\n",
       "      <td>250.0</td>\n",
       "      <td>No old price</td>\n",
       "      <td>True</td>\n",
       "      <td>https://www.ikea.com/sa/en/p/kallax-shelving-u...</td>\n",
       "      <td>Yes</td>\n",
       "      <td>Shelving unit,          77x147 cm</td>\n",
       "      <td>Tord Björklund</td>\n",
       "      <td>39.0</td>\n",
       "      <td>147.0</td>\n",
       "      <td>77.0</td>\n",
       "    </tr>\n",
       "    <tr>\n",
       "      <th>890</th>\n",
       "      <td>30269129</td>\n",
       "      <td>BESTÅ BURS</td>\n",
       "      <td>Cabinets &amp; cupboards</td>\n",
       "      <td>1195.0</td>\n",
       "      <td>No old price</td>\n",
       "      <td>True</td>\n",
       "      <td>https://www.ikea.com/sa/en/p/besta-burs-tv-ben...</td>\n",
       "      <td>No</td>\n",
       "      <td>TV bench,          180x41x49 cm</td>\n",
       "      <td>Mikael Warnhammar</td>\n",
       "      <td>41.0</td>\n",
       "      <td>49.0</td>\n",
       "      <td>180.0</td>\n",
       "    </tr>\n",
       "    <tr>\n",
       "      <th>857</th>\n",
       "      <td>50328665</td>\n",
       "      <td>LIXHULT</td>\n",
       "      <td>Cabinets &amp; cupboards</td>\n",
       "      <td>89.0</td>\n",
       "      <td>No old price</td>\n",
       "      <td>True</td>\n",
       "      <td>https://www.ikea.com/sa/en/p/lixhult-cabinet-m...</td>\n",
       "      <td>Yes</td>\n",
       "      <td>Cabinet,          25x25 cm</td>\n",
       "      <td>Jon Karlsson</td>\n",
       "      <td>25.0</td>\n",
       "      <td>25.0</td>\n",
       "      <td>25.0</td>\n",
       "    </tr>\n",
       "    <tr>\n",
       "      <th>2259</th>\n",
       "      <td>89300750</td>\n",
       "      <td>FLOTTEBO</td>\n",
       "      <td>Sofas &amp; armchairs</td>\n",
       "      <td>2236.0</td>\n",
       "      <td>SR 2,795</td>\n",
       "      <td>True</td>\n",
       "      <td>https://www.ikea.com/sa/en/p/flottebo-sofa-bed...</td>\n",
       "      <td>Yes</td>\n",
       "      <td>Sofa-bed with side table,          120 cm</td>\n",
       "      <td>C Halskov/H Dalsgaard</td>\n",
       "      <td>120.0</td>\n",
       "      <td>79.0</td>\n",
       "      <td>200.0</td>\n",
       "    </tr>\n",
       "  </tbody>\n",
       "</table>\n",
       "</div>"
      ],
      "text/plain": [
       "       item_id        name                    category   price     old_price  \\\n",
       "2106  10386501    SJÄLLAND           Outdoor furniture   260.0        SR 325   \n",
       "265   80275887      KALLAX  Bookcases & shelving units   250.0  No old price   \n",
       "890   30269129  BESTÅ BURS        Cabinets & cupboards  1195.0  No old price   \n",
       "857   50328665     LIXHULT        Cabinets & cupboards    89.0  No old price   \n",
       "2259  89300750    FLOTTEBO           Sofas & armchairs  2236.0      SR 2,795   \n",
       "\n",
       "      sellable_online                                               link  \\\n",
       "2106             True  https://www.ikea.com/sa/en/p/sjaelland-chair-w...   \n",
       "265              True  https://www.ikea.com/sa/en/p/kallax-shelving-u...   \n",
       "890              True  https://www.ikea.com/sa/en/p/besta-burs-tv-ben...   \n",
       "857              True  https://www.ikea.com/sa/en/p/lixhult-cabinet-m...   \n",
       "2259             True  https://www.ikea.com/sa/en/p/flottebo-sofa-bed...   \n",
       "\n",
       "     other_colors                                  short_description  \\\n",
       "2106           No                       Chair with armrests, outdoor   \n",
       "265           Yes                  Shelving unit,          77x147 cm   \n",
       "890            No                    TV bench,          180x41x49 cm   \n",
       "857           Yes                         Cabinet,          25x25 cm   \n",
       "2259          Yes          Sofa-bed with side table,          120 cm   \n",
       "\n",
       "                   designer  depth  height  width  \n",
       "2106             David Wahl   60.0    86.0   60.0  \n",
       "265          Tord Björklund   39.0   147.0   77.0  \n",
       "890       Mikael Warnhammar   41.0    49.0  180.0  \n",
       "857            Jon Karlsson   25.0    25.0   25.0  \n",
       "2259  C Halskov/H Dalsgaard  120.0    79.0  200.0  "
      ]
     },
     "execution_count": 3,
     "metadata": {},
     "output_type": "execute_result"
    }
   ],
   "source": [
    "df = df.loc[:, ~df.columns.str.contains('^Unnamed')]\n",
    "df.head()"
   ]
  },
  {
   "cell_type": "code",
   "execution_count": null,
   "id": "d24b90fd",
   "metadata": {},
   "outputs": [],
   "source": []
  },
  {
   "cell_type": "code",
   "execution_count": 4,
   "id": "6cff6eab",
   "metadata": {},
   "outputs": [],
   "source": [
    "df = df.drop('old_price', axis=1)"
   ]
  },
  {
   "cell_type": "code",
   "execution_count": 5,
   "id": "53a769ee",
   "metadata": {},
   "outputs": [],
   "source": [
    "df = df.drop('sellable_online', axis=1)"
   ]
  },
  {
   "cell_type": "code",
   "execution_count": 6,
   "id": "a19701ca",
   "metadata": {},
   "outputs": [],
   "source": [
    "df = df.drop('designer', axis=1)"
   ]
  },
  {
   "cell_type": "code",
   "execution_count": 8,
   "id": "c97acdff",
   "metadata": {},
   "outputs": [],
   "source": [
    "df = df.drop('link', axis=1)"
   ]
  },
  {
   "cell_type": "code",
   "execution_count": 9,
   "id": "978bd9a5",
   "metadata": {},
   "outputs": [],
   "source": [
    "df = df.drop('name', axis=1)"
   ]
  },
  {
   "cell_type": "code",
   "execution_count": 10,
   "id": "98665ebd",
   "metadata": {},
   "outputs": [],
   "source": [
    "df = df.drop('short_description', axis=1)"
   ]
  },
  {
   "cell_type": "code",
   "execution_count": 81,
   "id": "316b08d2",
   "metadata": {},
   "outputs": [],
   "source": [
    "df = df.drop('other_colors', axis=1)"
   ]
  },
  {
   "cell_type": "code",
   "execution_count": 11,
   "id": "edff39f3",
   "metadata": {},
   "outputs": [],
   "source": [
    "# export the dataframe to a CSV file\n",
    "df.to_csv('data_furniture.csv', index=False)"
   ]
  },
  {
   "cell_type": "code",
   "execution_count": 12,
   "id": "a16ef8d9",
   "metadata": {},
   "outputs": [],
   "source": [
    "\n",
    "num_cols = ['price', 'depth', 'height', 'width']\n",
    "cat_cols = ['category']\n",
    "scaler = StandardScaler()\n",
    "encoder = LabelEncoder()\n",
    "df[num_cols] = scaler.fit_transform(df[num_cols])\n",
    "df[cat_cols] = df[cat_cols].apply(encoder.fit_transform)"
   ]
  },
  {
   "cell_type": "code",
   "execution_count": 14,
   "id": "b24d5b1a",
   "metadata": {},
   "outputs": [
    {
     "name": "stderr",
     "output_type": "stream",
     "text": [
      "C:\\Users\\Ilyes\\anaconda3\\lib\\site-packages\\sklearn\\cluster\\_kmeans.py:870: FutureWarning: The default value of `n_init` will change from 10 to 'auto' in 1.4. Set the value of `n_init` explicitly to suppress the warning\n",
      "  warnings.warn(\n",
      "C:\\Users\\Ilyes\\anaconda3\\lib\\site-packages\\sklearn\\cluster\\_kmeans.py:1382: UserWarning: KMeans is known to have a memory leak on Windows with MKL, when there are less chunks than available threads. You can avoid it by setting the environment variable OMP_NUM_THREADS=1.\n",
      "  warnings.warn(\n"
     ]
    }
   ],
   "source": [
    "\n",
    "# Apply K-means clustering\n",
    "n_clusters = 10 # Choose the optimal number of clusters\n",
    "kmeans = KMeans(n_clusters=n_clusters, random_state=42)\n",
    "df['cluster'] = kmeans.fit_predict(df[num_cols + cat_cols])"
   ]
  },
  {
   "cell_type": "code",
   "execution_count": 15,
   "id": "f117d5c4",
   "metadata": {},
   "outputs": [],
   "source": [
    "def get_similar_products(product_id):\n",
    "    product = df.loc[df['item_id'] == product_id]\n",
    "    cluster_id = product['cluster'].values[0]\n",
    "    cluster = df.loc[df['cluster'] == cluster_id]\n",
    "    similarity_scores = cosine_similarity(product[num_cols + cat_cols], cluster[num_cols + cat_cols])\n",
    "    similarity_df = pd.DataFrame({'item_id': cluster['item_id'], 'similarity': similarity_scores[0]})\n",
    "    similarity_df = similarity_df.sort_values('similarity', ascending=False)\n",
    "    similar_products = similarity_df.iloc[1:4]['item_id'].values.tolist()\n",
    "    return similar_products"
   ]
  },
  {
   "cell_type": "code",
   "execution_count": 16,
   "id": "b4bea620",
   "metadata": {},
   "outputs": [],
   "source": [
    "def get_similar_products(product_id):\n",
    "    product = df.loc[df['item_id'] == product_id]\n",
    "    cluster_id = product['cluster'].values[0]\n",
    "    cluster = df.loc[df['cluster'] == cluster_id]\n",
    "    similarity_scores = cosine_similarity(product[num_cols + cat_cols], cluster[num_cols + cat_cols])\n",
    "    similarity_df = pd.DataFrame({'item_id': cluster['item_id'], 'similarity': similarity_scores[0]})\n",
    "    similarity_df = similarity_df.sort_values('similarity', ascending=False)\n",
    "    similar_products = similarity_df.iloc[1:4][['item_id', 'similarity']].values.tolist()\n",
    "    return similar_products"
   ]
  },
  {
   "cell_type": "code",
   "execution_count": 23,
   "id": "64e7d779",
   "metadata": {},
   "outputs": [],
   "source": [
    "similar_products = get_similar_products(50328665)"
   ]
  },
  {
   "cell_type": "code",
   "execution_count": 24,
   "id": "14aff6d7",
   "metadata": {},
   "outputs": [
    {
     "name": "stdout",
     "output_type": "stream",
     "text": [
      "[[89161508.0, 0.9952012568684974], [70344933.0, 0.9949505193687325], [50373709.0, 0.9883138857502931]]\n"
     ]
    }
   ],
   "source": [
    "print(similar_products) # Output: [101, 105, 112]\n"
   ]
  },
  {
   "cell_type": "code",
   "execution_count": 19,
   "id": "ea3c90fd",
   "metadata": {},
   "outputs": [],
   "source": [
    "# export the dataframe to a CSV file\n",
    "df.to_csv('data_furniture.csv', index=False)"
   ]
  },
  {
   "cell_type": "code",
   "execution_count": null,
   "id": "c3951574",
   "metadata": {},
   "outputs": [],
   "source": []
  }
 ],
 "metadata": {
  "kernelspec": {
   "display_name": "Python 3 (ipykernel)",
   "language": "python",
   "name": "python3"
  },
  "language_info": {
   "codemirror_mode": {
    "name": "ipython",
    "version": 3
   },
   "file_extension": ".py",
   "mimetype": "text/x-python",
   "name": "python",
   "nbconvert_exporter": "python",
   "pygments_lexer": "ipython3",
   "version": "3.10.9"
  }
 },
 "nbformat": 4,
 "nbformat_minor": 5
}
