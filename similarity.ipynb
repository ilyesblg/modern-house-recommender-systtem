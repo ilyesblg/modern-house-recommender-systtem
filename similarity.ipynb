{
 "cells": [
  {
   "cell_type": "code",
   "execution_count": 156,
   "id": "d5624303",
   "metadata": {},
   "outputs": [],
   "source": [
    "from sklearn.cluster import KMeans\n",
    "import pandas as pd\n",
    "from sklearn.preprocessing import StandardScaler\n",
    "from sklearn.preprocessing import OneHotEncoder\n",
    "from sklearn.compose import ColumnTransformer\n"
   ]
  },
  {
   "cell_type": "code",
   "execution_count": 135,
   "id": "8adf0ca7",
   "metadata": {},
   "outputs": [],
   "source": [
    "df = pd.read_csv('IKEA_SA_Furniture_Web_Scrapings_sss.csv')\n",
    "df = df.dropna()\n",
    "# shuffle the data\n",
    "df = df.sample(frac=1, random_state=42)  # frac=1 means to use all the data, random_state is used for reproducibility\n",
    "\n",
    "# take only 200 rows\n",
    "df = df[:200]"
   ]
  },
  {
   "cell_type": "code",
   "execution_count": 141,
   "id": "5448987c",
   "metadata": {},
   "outputs": [],
   "source": [
    "df = df.loc[:, ~df.columns.str.contains('^Unnamed')]\n",
    "\n",
    "\n",
    "product_id_to_compare = 2106"
   ]
  },
  {
   "cell_type": "code",
   "execution_count": 146,
   "id": "5c9d4333",
   "metadata": {},
   "outputs": [],
   "source": [
    "df = df.drop('short_description', axis=1)"
   ]
  },
  {
   "cell_type": "code",
   "execution_count": 169,
   "id": "60be3e62",
   "metadata": {},
   "outputs": [
    {
     "name": "stderr",
     "output_type": "stream",
     "text": [
      "C:\\Users\\Ilyes\\AppData\\Local\\Temp\\ipykernel_7400\\3063708995.py:1: FutureWarning: In a future version of pandas all arguments of DataFrame.drop except for the argument 'labels' will be keyword-only.\n",
      "  df = df.drop('other_colors','short_description','old_price','sellable_online','designer' ,'link')\n"
     ]
    },
    {
     "ename": "ValueError",
     "evalue": "For argument \"inplace\" expected type bool, received type str.",
     "output_type": "error",
     "traceback": [
      "\u001b[1;31m---------------------------------------------------------------------------\u001b[0m",
      "\u001b[1;31mValueError\u001b[0m                                Traceback (most recent call last)",
      "\u001b[1;32m~\\AppData\\Local\\Temp\\ipykernel_7400\\3063708995.py\u001b[0m in \u001b[0;36m<module>\u001b[1;34m\u001b[0m\n\u001b[1;32m----> 1\u001b[1;33m \u001b[0mdf\u001b[0m \u001b[1;33m=\u001b[0m \u001b[0mdf\u001b[0m\u001b[1;33m.\u001b[0m\u001b[0mdrop\u001b[0m\u001b[1;33m(\u001b[0m\u001b[1;34m'other_colors'\u001b[0m\u001b[1;33m,\u001b[0m\u001b[1;34m'short_description'\u001b[0m\u001b[1;33m,\u001b[0m\u001b[1;34m'old_price'\u001b[0m\u001b[1;33m,\u001b[0m\u001b[1;34m'sellable_online'\u001b[0m\u001b[1;33m,\u001b[0m\u001b[1;34m'designer'\u001b[0m \u001b[1;33m,\u001b[0m\u001b[1;34m'link'\u001b[0m\u001b[1;33m)\u001b[0m\u001b[1;33m\u001b[0m\u001b[1;33m\u001b[0m\u001b[0m\n\u001b[0m",
      "\u001b[1;32m~\\anaconda3\\lib\\site-packages\\pandas\\util\\_decorators.py\u001b[0m in \u001b[0;36mwrapper\u001b[1;34m(*args, **kwargs)\u001b[0m\n\u001b[0;32m    309\u001b[0m                     \u001b[0mstacklevel\u001b[0m\u001b[1;33m=\u001b[0m\u001b[0mstacklevel\u001b[0m\u001b[1;33m,\u001b[0m\u001b[1;33m\u001b[0m\u001b[1;33m\u001b[0m\u001b[0m\n\u001b[0;32m    310\u001b[0m                 )\n\u001b[1;32m--> 311\u001b[1;33m             \u001b[1;32mreturn\u001b[0m \u001b[0mfunc\u001b[0m\u001b[1;33m(\u001b[0m\u001b[1;33m*\u001b[0m\u001b[0margs\u001b[0m\u001b[1;33m,\u001b[0m \u001b[1;33m**\u001b[0m\u001b[0mkwargs\u001b[0m\u001b[1;33m)\u001b[0m\u001b[1;33m\u001b[0m\u001b[1;33m\u001b[0m\u001b[0m\n\u001b[0m\u001b[0;32m    312\u001b[0m \u001b[1;33m\u001b[0m\u001b[0m\n\u001b[0;32m    313\u001b[0m         \u001b[1;32mreturn\u001b[0m \u001b[0mwrapper\u001b[0m\u001b[1;33m\u001b[0m\u001b[1;33m\u001b[0m\u001b[0m\n",
      "\u001b[1;32m~\\anaconda3\\lib\\site-packages\\pandas\\core\\frame.py\u001b[0m in \u001b[0;36mdrop\u001b[1;34m(self, labels, axis, index, columns, level, inplace, errors)\u001b[0m\n\u001b[0;32m   4955\u001b[0m                 \u001b[0mweight\u001b[0m  \u001b[1;36m1.0\u001b[0m     \u001b[1;36m0.8\u001b[0m\u001b[1;33m\u001b[0m\u001b[1;33m\u001b[0m\u001b[0m\n\u001b[0;32m   4956\u001b[0m         \"\"\"\n\u001b[1;32m-> 4957\u001b[1;33m         return super().drop(\n\u001b[0m\u001b[0;32m   4958\u001b[0m             \u001b[0mlabels\u001b[0m\u001b[1;33m=\u001b[0m\u001b[0mlabels\u001b[0m\u001b[1;33m,\u001b[0m\u001b[1;33m\u001b[0m\u001b[1;33m\u001b[0m\u001b[0m\n\u001b[0;32m   4959\u001b[0m             \u001b[0maxis\u001b[0m\u001b[1;33m=\u001b[0m\u001b[0maxis\u001b[0m\u001b[1;33m,\u001b[0m\u001b[1;33m\u001b[0m\u001b[1;33m\u001b[0m\u001b[0m\n",
      "\u001b[1;32m~\\anaconda3\\lib\\site-packages\\pandas\\core\\generic.py\u001b[0m in \u001b[0;36mdrop\u001b[1;34m(self, labels, axis, index, columns, level, inplace, errors)\u001b[0m\n\u001b[0;32m   4247\u001b[0m     ):\n\u001b[0;32m   4248\u001b[0m \u001b[1;33m\u001b[0m\u001b[0m\n\u001b[1;32m-> 4249\u001b[1;33m         \u001b[0minplace\u001b[0m \u001b[1;33m=\u001b[0m \u001b[0mvalidate_bool_kwarg\u001b[0m\u001b[1;33m(\u001b[0m\u001b[0minplace\u001b[0m\u001b[1;33m,\u001b[0m \u001b[1;34m\"inplace\"\u001b[0m\u001b[1;33m)\u001b[0m\u001b[1;33m\u001b[0m\u001b[1;33m\u001b[0m\u001b[0m\n\u001b[0m\u001b[0;32m   4250\u001b[0m \u001b[1;33m\u001b[0m\u001b[0m\n\u001b[0;32m   4251\u001b[0m         \u001b[1;32mif\u001b[0m \u001b[0mlabels\u001b[0m \u001b[1;32mis\u001b[0m \u001b[1;32mnot\u001b[0m \u001b[1;32mNone\u001b[0m\u001b[1;33m:\u001b[0m\u001b[1;33m\u001b[0m\u001b[1;33m\u001b[0m\u001b[0m\n",
      "\u001b[1;32m~\\anaconda3\\lib\\site-packages\\pandas\\util\\_validators.py\u001b[0m in \u001b[0;36mvalidate_bool_kwarg\u001b[1;34m(value, arg_name, none_allowed, int_allowed)\u001b[0m\n\u001b[0;32m    249\u001b[0m \u001b[1;33m\u001b[0m\u001b[0m\n\u001b[0;32m    250\u001b[0m     \u001b[1;32mif\u001b[0m \u001b[1;32mnot\u001b[0m \u001b[0mgood_value\u001b[0m\u001b[1;33m:\u001b[0m\u001b[1;33m\u001b[0m\u001b[1;33m\u001b[0m\u001b[0m\n\u001b[1;32m--> 251\u001b[1;33m         raise ValueError(\n\u001b[0m\u001b[0;32m    252\u001b[0m             \u001b[1;34mf'For argument \"{arg_name}\" expected type bool, received '\u001b[0m\u001b[1;33m\u001b[0m\u001b[1;33m\u001b[0m\u001b[0m\n\u001b[0;32m    253\u001b[0m             \u001b[1;34mf\"type {type(value).__name__}.\"\u001b[0m\u001b[1;33m\u001b[0m\u001b[1;33m\u001b[0m\u001b[0m\n",
      "\u001b[1;31mValueError\u001b[0m: For argument \"inplace\" expected type bool, received type str."
     ]
    }
   ],
   "source": [
    "df = df.drop('other_colors','short_description','old_price','sellable_online','designer' ,'link')"
   ]
  },
  {
   "cell_type": "code",
   "execution_count": 148,
   "id": "699741b6",
   "metadata": {},
   "outputs": [],
   "source": [
    "df = df.drop('old_price', axis=1)"
   ]
  },
  {
   "cell_type": "code",
   "execution_count": 149,
   "id": "b966d485",
   "metadata": {},
   "outputs": [],
   "source": [
    "df = df.drop('sellable_online', axis=1)"
   ]
  },
  {
   "cell_type": "code",
   "execution_count": 150,
   "id": "03593ce3",
   "metadata": {},
   "outputs": [],
   "source": [
    "df = df.drop('designer', axis=1)"
   ]
  },
  {
   "cell_type": "code",
   "execution_count": 152,
   "id": "5afd9e14",
   "metadata": {},
   "outputs": [],
   "source": [
    "df = df.drop('link', axis=1)"
   ]
  },
  {
   "cell_type": "code",
   "execution_count": 153,
   "id": "d14eb8e6",
   "metadata": {},
   "outputs": [
    {
     "name": "stdout",
     "output_type": "stream",
     "text": [
      "<class 'pandas.core.frame.DataFrame'>\n",
      "Int64Index: 200 entries, 2106 to 282\n",
      "Data columns (total 7 columns):\n",
      " #   Column    Non-Null Count  Dtype  \n",
      "---  ------    --------------  -----  \n",
      " 0   item_id   200 non-null    int64  \n",
      " 1   name      200 non-null    object \n",
      " 2   category  200 non-null    object \n",
      " 3   price     200 non-null    float64\n",
      " 4   depth     200 non-null    float64\n",
      " 5   height    200 non-null    float64\n",
      " 6   width     200 non-null    float64\n",
      "dtypes: float64(4), int64(1), object(2)\n",
      "memory usage: 12.5+ KB\n"
     ]
    }
   ],
   "source": [
    "df.info()"
   ]
  },
  {
   "cell_type": "code",
   "execution_count": 157,
   "id": "029e3fad",
   "metadata": {},
   "outputs": [],
   "source": [
    "# One-hot encode the 'category' column\n",
    "ct = ColumnTransformer([('encoder', OneHotEncoder(), ['category'])], remainder='passthrough')\n",
    "df_encoded = ct.fit_transform(df)\n",
    "\n",
    "# Define the features that will be used for similarity calculation\n",
    "features = [\"price\", \"depth\", \"height\", \"width\"]\n",
    "feature_indices = [df.columns.get_loc(col) for col in features]\n",
    "\n",
    "# Normalize the features using min-max scaling\n",
    "df_encoded[:, feature_indices] = (df_encoded[:, feature_indices] - df_encoded[:, feature_indices].min(axis=0)) / (df_encoded[:, feature_indices].max(axis=0) - df_encoded[:, feature_indices].min(axis=0))\n",
    "\n"
   ]
  },
  {
   "cell_type": "code",
   "execution_count": 158,
   "id": "0c2d46be",
   "metadata": {},
   "outputs": [],
   "source": [
    "# Create a feature vector for each product\n",
    "X = df_encoded[:, feature_indices]\n",
    "\n",
    "# Calculate the similarity matrix using cosine similarity\n",
    "similarity_matrix = cosine_similarity(X)\n"
   ]
  },
  {
   "cell_type": "code",
   "execution_count": 129,
   "id": "61f7ac68",
   "metadata": {},
   "outputs": [],
   "source": [
    "# Calculate the weighted feature vectors for all products\n",
    "weighted_vectors = []\n",
    "for i, row in df.iterrows():\n",
    "    weighted_vector = [0] * vector_length\n",
    "    for j, (feature, weight) in enumerate(feature_weights.items()):\n",
    "        if feature == 'category':\n",
    "            # Use TF-IDF vectorization for the category description feature\n",
    "            vectorizer = TfidfVectorizer()\n",
    "            vector = vectorizer.fit_transform([row[feature]]).toarray()[0]\n",
    "        else:\n",
    "            # Use a simple numeric value for all other features\n",
    "            vector = [row[feature]]\n",
    "        weighted_vector[j] = weight * vector[0]\n",
    "    weighted_vectors.append(weighted_vector)"
   ]
  },
  {
   "cell_type": "code",
   "execution_count": 165,
   "id": "70bd80ea",
   "metadata": {},
   "outputs": [],
   "source": [
    "# Define a function to get the top 3 most similar products\n",
    "def get_top_3_similar_products(product_id):\n",
    "    product_index = df.index[df['item_id'] == product_id][0]\n",
    "    similar_indices = similarity_matrix[product_index].argsort()[:-4:-1]\n",
    "    similar_products = df.loc[similar_indices]['item_id'].values\n",
    "    return similar_products"
   ]
  },
  {
   "cell_type": "code",
   "execution_count": 167,
   "id": "48931497",
   "metadata": {},
   "outputs": [
    {
     "ename": "IndexError",
     "evalue": "index 0 is out of bounds for axis 0 with size 0",
     "output_type": "error",
     "traceback": [
      "\u001b[1;31m---------------------------------------------------------------------------\u001b[0m",
      "\u001b[1;31mIndexError\u001b[0m                                Traceback (most recent call last)",
      "\u001b[1;32m~\\AppData\\Local\\Temp\\ipykernel_7400\\1489918083.py\u001b[0m in \u001b[0;36m<module>\u001b[1;34m\u001b[0m\n\u001b[1;32m----> 1\u001b[1;33m \u001b[0mget_top_3_similar_products\u001b[0m\u001b[1;33m(\u001b[0m\u001b[1;34m'30269129'\u001b[0m\u001b[1;33m)\u001b[0m\u001b[1;33m\u001b[0m\u001b[1;33m\u001b[0m\u001b[0m\n\u001b[0m",
      "\u001b[1;32m~\\AppData\\Local\\Temp\\ipykernel_7400\\4038973241.py\u001b[0m in \u001b[0;36mget_top_3_similar_products\u001b[1;34m(product_id)\u001b[0m\n\u001b[0;32m      1\u001b[0m \u001b[1;31m# Define a function to get the top 3 most similar products\u001b[0m\u001b[1;33m\u001b[0m\u001b[1;33m\u001b[0m\u001b[0m\n\u001b[0;32m      2\u001b[0m \u001b[1;32mdef\u001b[0m \u001b[0mget_top_3_similar_products\u001b[0m\u001b[1;33m(\u001b[0m\u001b[0mproduct_id\u001b[0m\u001b[1;33m)\u001b[0m\u001b[1;33m:\u001b[0m\u001b[1;33m\u001b[0m\u001b[1;33m\u001b[0m\u001b[0m\n\u001b[1;32m----> 3\u001b[1;33m     \u001b[0mproduct_index\u001b[0m \u001b[1;33m=\u001b[0m \u001b[0mdf\u001b[0m\u001b[1;33m.\u001b[0m\u001b[0mindex\u001b[0m\u001b[1;33m[\u001b[0m\u001b[0mdf\u001b[0m\u001b[1;33m[\u001b[0m\u001b[1;34m'item_id'\u001b[0m\u001b[1;33m]\u001b[0m \u001b[1;33m==\u001b[0m \u001b[0mproduct_id\u001b[0m\u001b[1;33m]\u001b[0m\u001b[1;33m[\u001b[0m\u001b[1;36m0\u001b[0m\u001b[1;33m]\u001b[0m\u001b[1;33m\u001b[0m\u001b[1;33m\u001b[0m\u001b[0m\n\u001b[0m\u001b[0;32m      4\u001b[0m     \u001b[0msimilar_indices\u001b[0m \u001b[1;33m=\u001b[0m \u001b[0msimilarity_matrix\u001b[0m\u001b[1;33m[\u001b[0m\u001b[0mproduct_index\u001b[0m\u001b[1;33m]\u001b[0m\u001b[1;33m.\u001b[0m\u001b[0margsort\u001b[0m\u001b[1;33m(\u001b[0m\u001b[1;33m)\u001b[0m\u001b[1;33m[\u001b[0m\u001b[1;33m:\u001b[0m\u001b[1;33m-\u001b[0m\u001b[1;36m4\u001b[0m\u001b[1;33m:\u001b[0m\u001b[1;33m-\u001b[0m\u001b[1;36m1\u001b[0m\u001b[1;33m]\u001b[0m\u001b[1;33m\u001b[0m\u001b[1;33m\u001b[0m\u001b[0m\n\u001b[0;32m      5\u001b[0m     \u001b[0msimilar_products\u001b[0m \u001b[1;33m=\u001b[0m \u001b[0mdf\u001b[0m\u001b[1;33m.\u001b[0m\u001b[0mloc\u001b[0m\u001b[1;33m[\u001b[0m\u001b[0msimilar_indices\u001b[0m\u001b[1;33m]\u001b[0m\u001b[1;33m[\u001b[0m\u001b[1;34m'item_id'\u001b[0m\u001b[1;33m]\u001b[0m\u001b[1;33m.\u001b[0m\u001b[0mvalues\u001b[0m\u001b[1;33m\u001b[0m\u001b[1;33m\u001b[0m\u001b[0m\n",
      "\u001b[1;32m~\\anaconda3\\lib\\site-packages\\pandas\\core\\indexes\\base.py\u001b[0m in \u001b[0;36m__getitem__\u001b[1;34m(self, key)\u001b[0m\n\u001b[0;32m   5051\u001b[0m             \u001b[1;31m# GH#44051 exclude bool, which would return a 2d ndarray\u001b[0m\u001b[1;33m\u001b[0m\u001b[1;33m\u001b[0m\u001b[0m\n\u001b[0;32m   5052\u001b[0m             \u001b[0mkey\u001b[0m \u001b[1;33m=\u001b[0m \u001b[0mcom\u001b[0m\u001b[1;33m.\u001b[0m\u001b[0mcast_scalar_indexer\u001b[0m\u001b[1;33m(\u001b[0m\u001b[0mkey\u001b[0m\u001b[1;33m,\u001b[0m \u001b[0mwarn_float\u001b[0m\u001b[1;33m=\u001b[0m\u001b[1;32mTrue\u001b[0m\u001b[1;33m)\u001b[0m\u001b[1;33m\u001b[0m\u001b[1;33m\u001b[0m\u001b[0m\n\u001b[1;32m-> 5053\u001b[1;33m             \u001b[1;32mreturn\u001b[0m \u001b[0mgetitem\u001b[0m\u001b[1;33m(\u001b[0m\u001b[0mkey\u001b[0m\u001b[1;33m)\u001b[0m\u001b[1;33m\u001b[0m\u001b[1;33m\u001b[0m\u001b[0m\n\u001b[0m\u001b[0;32m   5054\u001b[0m \u001b[1;33m\u001b[0m\u001b[0m\n\u001b[0;32m   5055\u001b[0m         \u001b[1;32mif\u001b[0m \u001b[0misinstance\u001b[0m\u001b[1;33m(\u001b[0m\u001b[0mkey\u001b[0m\u001b[1;33m,\u001b[0m \u001b[0mslice\u001b[0m\u001b[1;33m)\u001b[0m\u001b[1;33m:\u001b[0m\u001b[1;33m\u001b[0m\u001b[1;33m\u001b[0m\u001b[0m\n",
      "\u001b[1;31mIndexError\u001b[0m: index 0 is out of bounds for axis 0 with size 0"
     ]
    }
   ],
   "source": [
    "get_top_3_similar_products('30269129')"
   ]
  },
  {
   "cell_type": "code",
   "execution_count": 131,
   "id": "a5c42707",
   "metadata": {},
   "outputs": [],
   "source": [
    "df = pd.read_csv('IKEA_SA_Furniture_Web_Scrapings_sss.csv')\n",
    "df = df.dropna()"
   ]
  },
  {
   "cell_type": "code",
   "execution_count": 160,
   "id": "66e8f4b9",
   "metadata": {},
   "outputs": [
    {
     "data": {
      "text/html": [
       "<div>\n",
       "<style scoped>\n",
       "    .dataframe tbody tr th:only-of-type {\n",
       "        vertical-align: middle;\n",
       "    }\n",
       "\n",
       "    .dataframe tbody tr th {\n",
       "        vertical-align: top;\n",
       "    }\n",
       "\n",
       "    .dataframe thead th {\n",
       "        text-align: right;\n",
       "    }\n",
       "</style>\n",
       "<table border=\"1\" class=\"dataframe\">\n",
       "  <thead>\n",
       "    <tr style=\"text-align: right;\">\n",
       "      <th></th>\n",
       "      <th>item_id</th>\n",
       "      <th>name</th>\n",
       "      <th>category</th>\n",
       "      <th>price</th>\n",
       "      <th>depth</th>\n",
       "      <th>height</th>\n",
       "      <th>width</th>\n",
       "    </tr>\n",
       "  </thead>\n",
       "  <tbody>\n",
       "    <tr>\n",
       "      <th>2106</th>\n",
       "      <td>10386501</td>\n",
       "      <td>SJÄLLAND</td>\n",
       "      <td>Outdoor furniture</td>\n",
       "      <td>260.0</td>\n",
       "      <td>60.0</td>\n",
       "      <td>86.0</td>\n",
       "      <td>60.0</td>\n",
       "    </tr>\n",
       "    <tr>\n",
       "      <th>265</th>\n",
       "      <td>80275887</td>\n",
       "      <td>KALLAX</td>\n",
       "      <td>Bookcases &amp; shelving units</td>\n",
       "      <td>250.0</td>\n",
       "      <td>39.0</td>\n",
       "      <td>147.0</td>\n",
       "      <td>77.0</td>\n",
       "    </tr>\n",
       "    <tr>\n",
       "      <th>890</th>\n",
       "      <td>30269129</td>\n",
       "      <td>BESTÅ BURS</td>\n",
       "      <td>Cabinets &amp; cupboards</td>\n",
       "      <td>1195.0</td>\n",
       "      <td>41.0</td>\n",
       "      <td>49.0</td>\n",
       "      <td>180.0</td>\n",
       "    </tr>\n",
       "    <tr>\n",
       "      <th>857</th>\n",
       "      <td>50328665</td>\n",
       "      <td>LIXHULT</td>\n",
       "      <td>Cabinets &amp; cupboards</td>\n",
       "      <td>89.0</td>\n",
       "      <td>25.0</td>\n",
       "      <td>25.0</td>\n",
       "      <td>25.0</td>\n",
       "    </tr>\n",
       "    <tr>\n",
       "      <th>2259</th>\n",
       "      <td>89300750</td>\n",
       "      <td>FLOTTEBO</td>\n",
       "      <td>Sofas &amp; armchairs</td>\n",
       "      <td>2236.0</td>\n",
       "      <td>120.0</td>\n",
       "      <td>79.0</td>\n",
       "      <td>200.0</td>\n",
       "    </tr>\n",
       "  </tbody>\n",
       "</table>\n",
       "</div>"
      ],
      "text/plain": [
       "       item_id        name                    category   price  depth  height  \\\n",
       "2106  10386501    SJÄLLAND           Outdoor furniture   260.0   60.0    86.0   \n",
       "265   80275887      KALLAX  Bookcases & shelving units   250.0   39.0   147.0   \n",
       "890   30269129  BESTÅ BURS        Cabinets & cupboards  1195.0   41.0    49.0   \n",
       "857   50328665     LIXHULT        Cabinets & cupboards    89.0   25.0    25.0   \n",
       "2259  89300750    FLOTTEBO           Sofas & armchairs  2236.0  120.0    79.0   \n",
       "\n",
       "      width  \n",
       "2106   60.0  \n",
       "265    77.0  \n",
       "890   180.0  \n",
       "857    25.0  \n",
       "2259  200.0  "
      ]
     },
     "execution_count": 160,
     "metadata": {},
     "output_type": "execute_result"
    }
   ],
   "source": [
    "df.head()"
   ]
  },
  {
   "cell_type": "code",
   "execution_count": 66,
   "id": "2942d44f",
   "metadata": {},
   "outputs": [],
   "source": [
    "product_to_compare = 'STIG'"
   ]
  },
  {
   "cell_type": "code",
   "execution_count": 67,
   "id": "c01f5f22",
   "metadata": {},
   "outputs": [],
   "source": [
    "index_to_compare = df.index[df['name'] == product_to_compare].tolist()[0]"
   ]
  },
  {
   "cell_type": "code",
   "execution_count": 68,
   "id": "bf23bc87",
   "metadata": {},
   "outputs": [],
   "source": [
    "features = {\n",
    "    'price': 0.4,\n",
    "    'category': 0.3,\n",
    "    'depth': 0.1,\n",
    "    'height': 0.1,\n",
    "    'width': 0.1\n",
    "}\n"
   ]
  },
  {
   "cell_type": "code",
   "execution_count": 69,
   "id": "036b2a49",
   "metadata": {},
   "outputs": [],
   "source": [
    "total_weight = sum(features.values())\n",
    "feature_weights = {k: v / total_weight for k, v in features.items()}\n"
   ]
  },
  {
   "cell_type": "code",
   "execution_count": 74,
   "id": "0863aa1c",
   "metadata": {},
   "outputs": [],
   "source": [
    "# Calculate the weighted feature vectors for all products\n",
    "weighted_vectors = []\n",
    "for i, row in df.iterrows():\n",
    "    weighted_vector = []\n",
    "    for feature, weight in feature_weights.items():\n",
    "        if feature == 'category':\n",
    "            # Use TF-IDF vectorization for the category description feature\n",
    "            vectorizer = TfidfVectorizer()\n",
    "            vector = vectorizer.fit_transform([row[feature]]).toarray()[0]\n",
    "        else:\n",
    "            # Use a simple numeric value for all other features\n",
    "            vector = [row[feature]]\n",
    "        weighted_vector += [weight * x for x in vector]\n",
    "    weighted_vectors.append(weighted_vector)\n"
   ]
  },
  {
   "cell_type": "code",
   "execution_count": 75,
   "id": "a1842463",
   "metadata": {},
   "outputs": [
    {
     "name": "stderr",
     "output_type": "stream",
     "text": [
      "C:\\Users\\Ilyes\\anaconda3\\lib\\site-packages\\sklearn\\metrics\\pairwise.py:50: VisibleDeprecationWarning: Creating an ndarray from ragged nested sequences (which is a list-or-tuple of lists-or-tuples-or ndarrays with different lengths or shapes) is deprecated. If you meant to do this, you must specify 'dtype=object' when creating the ndarray.\n",
      "  Y = np.asarray(Y)\n"
     ]
    },
    {
     "ename": "ValueError",
     "evalue": "setting an array element with a sequence.",
     "output_type": "error",
     "traceback": [
      "\u001b[1;31m---------------------------------------------------------------------------\u001b[0m",
      "\u001b[1;31mTypeError\u001b[0m                                 Traceback (most recent call last)",
      "\u001b[1;31mTypeError\u001b[0m: float() argument must be a string or a number, not 'list'",
      "\nThe above exception was the direct cause of the following exception:\n",
      "\u001b[1;31mValueError\u001b[0m                                Traceback (most recent call last)",
      "\u001b[1;32m~\\AppData\\Local\\Temp\\ipykernel_7400\\3026531954.py\u001b[0m in \u001b[0;36m<module>\u001b[1;34m\u001b[0m\n\u001b[1;32m----> 1\u001b[1;33m \u001b[0mcosine_similarities\u001b[0m \u001b[1;33m=\u001b[0m \u001b[0mcosine_similarity\u001b[0m\u001b[1;33m(\u001b[0m\u001b[1;33m[\u001b[0m\u001b[0mweighted_vectors\u001b[0m\u001b[1;33m[\u001b[0m\u001b[0mindex_to_compare\u001b[0m\u001b[1;33m]\u001b[0m\u001b[1;33m]\u001b[0m\u001b[1;33m,\u001b[0m \u001b[0mweighted_vectors\u001b[0m\u001b[1;33m)\u001b[0m\u001b[1;33m\u001b[0m\u001b[1;33m\u001b[0m\u001b[0m\n\u001b[0m",
      "\u001b[1;32m~\\anaconda3\\lib\\site-packages\\sklearn\\metrics\\pairwise.py\u001b[0m in \u001b[0;36mcosine_similarity\u001b[1;34m(X, Y, dense_output)\u001b[0m\n\u001b[0;32m   1249\u001b[0m     \u001b[1;31m# to avoid recursive import\u001b[0m\u001b[1;33m\u001b[0m\u001b[1;33m\u001b[0m\u001b[0m\n\u001b[0;32m   1250\u001b[0m \u001b[1;33m\u001b[0m\u001b[0m\n\u001b[1;32m-> 1251\u001b[1;33m     \u001b[0mX\u001b[0m\u001b[1;33m,\u001b[0m \u001b[0mY\u001b[0m \u001b[1;33m=\u001b[0m \u001b[0mcheck_pairwise_arrays\u001b[0m\u001b[1;33m(\u001b[0m\u001b[0mX\u001b[0m\u001b[1;33m,\u001b[0m \u001b[0mY\u001b[0m\u001b[1;33m)\u001b[0m\u001b[1;33m\u001b[0m\u001b[1;33m\u001b[0m\u001b[0m\n\u001b[0m\u001b[0;32m   1252\u001b[0m \u001b[1;33m\u001b[0m\u001b[0m\n\u001b[0;32m   1253\u001b[0m     \u001b[0mX_normalized\u001b[0m \u001b[1;33m=\u001b[0m \u001b[0mnormalize\u001b[0m\u001b[1;33m(\u001b[0m\u001b[0mX\u001b[0m\u001b[1;33m,\u001b[0m \u001b[0mcopy\u001b[0m\u001b[1;33m=\u001b[0m\u001b[1;32mTrue\u001b[0m\u001b[1;33m)\u001b[0m\u001b[1;33m\u001b[0m\u001b[1;33m\u001b[0m\u001b[0m\n",
      "\u001b[1;32m~\\anaconda3\\lib\\site-packages\\sklearn\\metrics\\pairwise.py\u001b[0m in \u001b[0;36mcheck_pairwise_arrays\u001b[1;34m(X, Y, precomputed, dtype, accept_sparse, force_all_finite, copy)\u001b[0m\n\u001b[0;32m    162\u001b[0m             \u001b[0mestimator\u001b[0m\u001b[1;33m=\u001b[0m\u001b[0mestimator\u001b[0m\u001b[1;33m,\u001b[0m\u001b[1;33m\u001b[0m\u001b[1;33m\u001b[0m\u001b[0m\n\u001b[0;32m    163\u001b[0m         )\n\u001b[1;32m--> 164\u001b[1;33m         Y = check_array(\n\u001b[0m\u001b[0;32m    165\u001b[0m             \u001b[0mY\u001b[0m\u001b[1;33m,\u001b[0m\u001b[1;33m\u001b[0m\u001b[1;33m\u001b[0m\u001b[0m\n\u001b[0;32m    166\u001b[0m             \u001b[0maccept_sparse\u001b[0m\u001b[1;33m=\u001b[0m\u001b[0maccept_sparse\u001b[0m\u001b[1;33m,\u001b[0m\u001b[1;33m\u001b[0m\u001b[1;33m\u001b[0m\u001b[0m\n",
      "\u001b[1;32m~\\anaconda3\\lib\\site-packages\\sklearn\\utils\\validation.py\u001b[0m in \u001b[0;36mcheck_array\u001b[1;34m(array, accept_sparse, accept_large_sparse, dtype, order, copy, force_all_finite, ensure_2d, allow_nd, ensure_min_samples, ensure_min_features, estimator)\u001b[0m\n\u001b[0;32m    744\u001b[0m                     \u001b[0marray\u001b[0m \u001b[1;33m=\u001b[0m \u001b[0marray\u001b[0m\u001b[1;33m.\u001b[0m\u001b[0mastype\u001b[0m\u001b[1;33m(\u001b[0m\u001b[0mdtype\u001b[0m\u001b[1;33m,\u001b[0m \u001b[0mcasting\u001b[0m\u001b[1;33m=\u001b[0m\u001b[1;34m\"unsafe\"\u001b[0m\u001b[1;33m,\u001b[0m \u001b[0mcopy\u001b[0m\u001b[1;33m=\u001b[0m\u001b[1;32mFalse\u001b[0m\u001b[1;33m)\u001b[0m\u001b[1;33m\u001b[0m\u001b[1;33m\u001b[0m\u001b[0m\n\u001b[0;32m    745\u001b[0m                 \u001b[1;32melse\u001b[0m\u001b[1;33m:\u001b[0m\u001b[1;33m\u001b[0m\u001b[1;33m\u001b[0m\u001b[0m\n\u001b[1;32m--> 746\u001b[1;33m                     \u001b[0marray\u001b[0m \u001b[1;33m=\u001b[0m \u001b[0mnp\u001b[0m\u001b[1;33m.\u001b[0m\u001b[0masarray\u001b[0m\u001b[1;33m(\u001b[0m\u001b[0marray\u001b[0m\u001b[1;33m,\u001b[0m \u001b[0morder\u001b[0m\u001b[1;33m=\u001b[0m\u001b[0morder\u001b[0m\u001b[1;33m,\u001b[0m \u001b[0mdtype\u001b[0m\u001b[1;33m=\u001b[0m\u001b[0mdtype\u001b[0m\u001b[1;33m)\u001b[0m\u001b[1;33m\u001b[0m\u001b[1;33m\u001b[0m\u001b[0m\n\u001b[0m\u001b[0;32m    747\u001b[0m             \u001b[1;32mexcept\u001b[0m \u001b[0mComplexWarning\u001b[0m \u001b[1;32mas\u001b[0m \u001b[0mcomplex_warning\u001b[0m\u001b[1;33m:\u001b[0m\u001b[1;33m\u001b[0m\u001b[1;33m\u001b[0m\u001b[0m\n\u001b[0;32m    748\u001b[0m                 raise ValueError(\n",
      "\u001b[1;31mValueError\u001b[0m: setting an array element with a sequence."
     ]
    }
   ],
   "source": [
    "cosine_similarities = cosine_similarity([weighted_vectors[index_to_compare]], weighted_vectors)\n"
   ]
  },
  {
   "cell_type": "code",
   "execution_count": 76,
   "id": "913f22da",
   "metadata": {},
   "outputs": [
    {
     "name": "stdout",
     "output_type": "stream",
     "text": [
      "Top 3 most similar products:\n",
      "INGOLF - 1.0\n",
      "SVENBERTIL - 1.0\n",
      "URBAN - 1.0\n"
     ]
    }
   ],
   "source": [
    "similar_indices = cosine_similarities.argsort()[0][-4:-1]\n",
    "similar_products = [(df.iloc[i]['name'], cosine_similarities[0][i]) for i in similar_indices[::-1]]\n",
    "\n",
    "# Print the top 3 most similar products\n",
    "print('Top 3 most similar products:')\n",
    "for product in similar_products:\n",
    "    print(product[0], '-', product[1])"
   ]
  },
  {
   "cell_type": "code",
   "execution_count": null,
   "id": "4497983c",
   "metadata": {},
   "outputs": [],
   "source": []
  },
  {
   "cell_type": "code",
   "execution_count": 41,
   "id": "ed1b107f",
   "metadata": {},
   "outputs": [
    {
     "name": "stdout",
     "output_type": "stream",
     "text": [
      "Top 3 most similar products:\n",
      "INGOLF - 1.0\n",
      "SVENBERTIL - 1.0\n",
      "URBAN - 1.0\n",
      "HENRIKSDAL - 1.0\n",
      "BILLY / OXBERG - 0.0\n",
      "BESTÅ - 0.0\n",
      "HÄLLAN - 0.0\n",
      "HAVSTA - 0.0\n",
      "BESTÅ - 0.0\n",
      "BEKANT - 0.0\n"
     ]
    }
   ],
   "source": [
    "print('Top 3 most similar products:')\n",
    "for product in similar_products:\n",
    "    print(product[0], '-', product[1])\n"
   ]
  },
  {
   "cell_type": "code",
   "execution_count": null,
   "id": "426f8f5d",
   "metadata": {},
   "outputs": [],
   "source": []
  },
  {
   "cell_type": "code",
   "execution_count": null,
   "id": "e51b046f",
   "metadata": {},
   "outputs": [],
   "source": []
  },
  {
   "cell_type": "code",
   "execution_count": null,
   "id": "25838468",
   "metadata": {},
   "outputs": [],
   "source": []
  }
 ],
 "metadata": {
  "kernelspec": {
   "display_name": "Python 3 (ipykernel)",
   "language": "python",
   "name": "python3"
  },
  "language_info": {
   "codemirror_mode": {
    "name": "ipython",
    "version": 3
   },
   "file_extension": ".py",
   "mimetype": "text/x-python",
   "name": "python",
   "nbconvert_exporter": "python",
   "pygments_lexer": "ipython3",
   "version": "3.10.9"
  }
 },
 "nbformat": 4,
 "nbformat_minor": 5
}
